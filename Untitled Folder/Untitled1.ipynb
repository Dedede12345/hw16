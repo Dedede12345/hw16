{
 "cells": [
  {
   "cell_type": "markdown",
   "id": "b756bf69",
   "metadata": {},
   "source": [
    "# Crypt to USD\n",
    "<hr>\n",
    "<a href= ''>\n",
    "   sources </a>"
   ]
  },
  {
   "cell_type": "code",
   "execution_count": 2,
   "id": "e5648492",
   "metadata": {},
   "outputs": [],
   "source": [
    "import pandas as pd"
   ]
  },
  {
   "cell_type": "code",
   "execution_count": 16,
   "id": "2cc73874",
   "metadata": {},
   "outputs": [],
   "source": [
    "import os"
   ]
  },
  {
   "cell_type": "code",
   "execution_count": 97,
   "id": "50717ab9",
   "metadata": {},
   "outputs": [],
   "source": [
    "df_doge = pd.read_csv(r'DOGE-USD.csv')"
   ]
  },
  {
   "cell_type": "code",
   "execution_count": 89,
   "id": "559eacbb",
   "metadata": {},
   "outputs": [],
   "source": [
    "df_btc = pd.read_csv(r'BTC-USD.csv')"
   ]
  },
  {
   "cell_type": "code",
   "execution_count": 96,
   "id": "e75120d6",
   "metadata": {},
   "outputs": [],
   "source": [
    "df_eth = pd.read_csv(r'ETH-USD.csv')"
   ]
  },
  {
   "cell_type": "code",
   "execution_count": 56,
   "id": "e4124a4e",
   "metadata": {
    "scrolled": true
   },
   "outputs": [
    {
     "data": {
      "text/plain": [
       "'D:\\\\HW16'"
      ]
     },
     "execution_count": 56,
     "metadata": {},
     "output_type": "execute_result"
    }
   ],
   "source": [
    "os.getcwd()"
   ]
  },
  {
   "cell_type": "code",
   "execution_count": null,
   "id": "aa189500",
   "metadata": {},
   "outputs": [],
   "source": [
    "os.chdir(R'D:\\HW16')"
   ]
  },
  {
   "cell_type": "code",
   "execution_count": 58,
   "id": "dcb83eb3",
   "metadata": {},
   "outputs": [],
   "source": [
    "os.chdir(R'D:\\HW16\\Untitled Folder')"
   ]
  },
  {
   "cell_type": "code",
   "execution_count": 52,
   "id": "a04e54fa",
   "metadata": {},
   "outputs": [],
   "source": [
    "!VE\\Scripts\\activate"
   ]
  },
  {
   "cell_type": "code",
   "execution_count": 81,
   "id": "6a596759",
   "metadata": {
    "collapsed": true
   },
   "outputs": [
    {
     "name": "stdout",
     "output_type": "stream",
     "text": [
      "Requirement already satisfied: django in d:\\hw16\\ve\\lib\\site-packages (4.0.3)\n",
      "Requirement already satisfied: tzdata in d:\\hw16\\ve\\lib\\site-packages (from django) (2022.1)\n",
      "Requirement already satisfied: asgiref<4,>=3.4.1 in d:\\hw16\\ve\\lib\\site-packages (from django) (3.5.0)\n",
      "Requirement already satisfied: sqlparse>=0.2.2 in d:\\hw16\\ve\\lib\\site-packages (from django) (0.4.2)\n"
     ]
    },
    {
     "name": "stderr",
     "output_type": "stream",
     "text": [
      "WARNING: You are using pip version 21.2.4; however, version 22.0.4 is available.\n",
      "You should consider upgrading via the 'D:\\HW16\\VE\\Scripts\\python.exe -m pip install --upgrade pip' command.\n"
     ]
    }
   ],
   "source": [
    "!pip install django"
   ]
  },
  {
   "cell_type": "code",
   "execution_count": 94,
   "id": "5d717dfd",
   "metadata": {},
   "outputs": [
    {
     "data": {
      "text/html": [
       "<div>\n",
       "<style scoped>\n",
       "    .dataframe tbody tr th:only-of-type {\n",
       "        vertical-align: middle;\n",
       "    }\n",
       "\n",
       "    .dataframe tbody tr th {\n",
       "        vertical-align: top;\n",
       "    }\n",
       "\n",
       "    .dataframe thead th {\n",
       "        text-align: right;\n",
       "    }\n",
       "</style>\n",
       "<table border=\"1\" class=\"dataframe\">\n",
       "  <thead>\n",
       "    <tr style=\"text-align: right;\">\n",
       "      <th></th>\n",
       "      <th>Date</th>\n",
       "      <th>Open</th>\n",
       "      <th>High</th>\n",
       "      <th>Low</th>\n",
       "      <th>Close</th>\n",
       "      <th>Adj Close</th>\n",
       "      <th>Volume</th>\n",
       "    </tr>\n",
       "  </thead>\n",
       "  <tbody>\n",
       "    <tr>\n",
       "      <th>0</th>\n",
       "      <td>2021-03-19</td>\n",
       "      <td>57850.441406</td>\n",
       "      <td>59498.375000</td>\n",
       "      <td>56643.703125</td>\n",
       "      <td>58346.652344</td>\n",
       "      <td>58346.652344</td>\n",
       "      <td>49063873786</td>\n",
       "    </tr>\n",
       "    <tr>\n",
       "      <th>1</th>\n",
       "      <td>2021-03-20</td>\n",
       "      <td>58332.261719</td>\n",
       "      <td>60031.285156</td>\n",
       "      <td>58213.296875</td>\n",
       "      <td>58313.644531</td>\n",
       "      <td>58313.644531</td>\n",
       "      <td>50361731222</td>\n",
       "    </tr>\n",
       "    <tr>\n",
       "      <th>2</th>\n",
       "      <td>2021-03-21</td>\n",
       "      <td>58309.914063</td>\n",
       "      <td>58767.898438</td>\n",
       "      <td>56005.617188</td>\n",
       "      <td>57523.421875</td>\n",
       "      <td>57523.421875</td>\n",
       "      <td>51943414539</td>\n",
       "    </tr>\n",
       "    <tr>\n",
       "      <th>3</th>\n",
       "      <td>2021-03-22</td>\n",
       "      <td>57517.890625</td>\n",
       "      <td>58471.480469</td>\n",
       "      <td>54288.156250</td>\n",
       "      <td>54529.144531</td>\n",
       "      <td>54529.144531</td>\n",
       "      <td>56521454974</td>\n",
       "    </tr>\n",
       "    <tr>\n",
       "      <th>4</th>\n",
       "      <td>2021-03-23</td>\n",
       "      <td>54511.660156</td>\n",
       "      <td>55985.441406</td>\n",
       "      <td>53470.695313</td>\n",
       "      <td>54738.945313</td>\n",
       "      <td>54738.945313</td>\n",
       "      <td>56435023914</td>\n",
       "    </tr>\n",
       "    <tr>\n",
       "      <th>...</th>\n",
       "      <td>...</td>\n",
       "      <td>...</td>\n",
       "      <td>...</td>\n",
       "      <td>...</td>\n",
       "      <td>...</td>\n",
       "      <td>...</td>\n",
       "      <td>...</td>\n",
       "    </tr>\n",
       "    <tr>\n",
       "      <th>361</th>\n",
       "      <td>2022-03-15</td>\n",
       "      <td>39664.250000</td>\n",
       "      <td>39794.628906</td>\n",
       "      <td>38310.210938</td>\n",
       "      <td>39338.785156</td>\n",
       "      <td>39338.785156</td>\n",
       "      <td>23934000868</td>\n",
       "    </tr>\n",
       "    <tr>\n",
       "      <th>362</th>\n",
       "      <td>2022-03-16</td>\n",
       "      <td>39335.570313</td>\n",
       "      <td>41465.453125</td>\n",
       "      <td>39022.347656</td>\n",
       "      <td>41143.929688</td>\n",
       "      <td>41143.929688</td>\n",
       "      <td>39616916192</td>\n",
       "    </tr>\n",
       "    <tr>\n",
       "      <th>363</th>\n",
       "      <td>2022-03-17</td>\n",
       "      <td>41140.843750</td>\n",
       "      <td>41287.535156</td>\n",
       "      <td>40662.871094</td>\n",
       "      <td>40951.378906</td>\n",
       "      <td>40951.378906</td>\n",
       "      <td>22009601093</td>\n",
       "    </tr>\n",
       "    <tr>\n",
       "      <th>364</th>\n",
       "      <td>2022-03-18</td>\n",
       "      <td>40944.839844</td>\n",
       "      <td>42195.746094</td>\n",
       "      <td>40302.398438</td>\n",
       "      <td>41801.156250</td>\n",
       "      <td>41801.156250</td>\n",
       "      <td>34421564942</td>\n",
       "    </tr>\n",
       "    <tr>\n",
       "      <th>365</th>\n",
       "      <td>2022-03-19</td>\n",
       "      <td>41789.253906</td>\n",
       "      <td>41943.828125</td>\n",
       "      <td>41602.667969</td>\n",
       "      <td>41753.156250</td>\n",
       "      <td>41753.156250</td>\n",
       "      <td>24994822144</td>\n",
       "    </tr>\n",
       "  </tbody>\n",
       "</table>\n",
       "<p>366 rows × 7 columns</p>\n",
       "</div>"
      ],
      "text/plain": [
       "           Date          Open          High           Low         Close  \\\n",
       "0    2021-03-19  57850.441406  59498.375000  56643.703125  58346.652344   \n",
       "1    2021-03-20  58332.261719  60031.285156  58213.296875  58313.644531   \n",
       "2    2021-03-21  58309.914063  58767.898438  56005.617188  57523.421875   \n",
       "3    2021-03-22  57517.890625  58471.480469  54288.156250  54529.144531   \n",
       "4    2021-03-23  54511.660156  55985.441406  53470.695313  54738.945313   \n",
       "..          ...           ...           ...           ...           ...   \n",
       "361  2022-03-15  39664.250000  39794.628906  38310.210938  39338.785156   \n",
       "362  2022-03-16  39335.570313  41465.453125  39022.347656  41143.929688   \n",
       "363  2022-03-17  41140.843750  41287.535156  40662.871094  40951.378906   \n",
       "364  2022-03-18  40944.839844  42195.746094  40302.398438  41801.156250   \n",
       "365  2022-03-19  41789.253906  41943.828125  41602.667969  41753.156250   \n",
       "\n",
       "        Adj Close       Volume  \n",
       "0    58346.652344  49063873786  \n",
       "1    58313.644531  50361731222  \n",
       "2    57523.421875  51943414539  \n",
       "3    54529.144531  56521454974  \n",
       "4    54738.945313  56435023914  \n",
       "..            ...          ...  \n",
       "361  39338.785156  23934000868  \n",
       "362  41143.929688  39616916192  \n",
       "363  40951.378906  22009601093  \n",
       "364  41801.156250  34421564942  \n",
       "365  41753.156250  24994822144  \n",
       "\n",
       "[366 rows x 7 columns]"
      ]
     },
     "execution_count": 94,
     "metadata": {},
     "output_type": "execute_result"
    }
   ],
   "source": [
    "df_btc"
   ]
  },
  {
   "cell_type": "code",
   "execution_count": 103,
   "id": "51f8e8f6",
   "metadata": {},
   "outputs": [],
   "source": [
    "import os"
   ]
  },
  {
   "cell_type": "code",
   "execution_count": 126,
   "id": "8f95ab1e",
   "metadata": {
    "collapsed": true
   },
   "outputs": [
    {
     "name": "stdout",
     "output_type": "stream",
     "text": [
      "Requirement already satisfied: matplotlib in d:\\hw16\\ve\\lib\\site-packages (3.5.1)\n",
      "Requirement already satisfied: cycler>=0.10 in d:\\hw16\\ve\\lib\\site-packages (from matplotlib) (0.11.0)\n",
      "Requirement already satisfied: python-dateutil>=2.7 in d:\\hw16\\ve\\lib\\site-packages (from matplotlib) (2.8.2)\n",
      "Requirement already satisfied: pyparsing>=2.2.1 in d:\\hw16\\ve\\lib\\site-packages (from matplotlib) (3.0.7)\n",
      "Requirement already satisfied: numpy>=1.17 in d:\\hw16\\ve\\lib\\site-packages (from matplotlib) (1.22.3)\n",
      "Requirement already satisfied: pillow>=6.2.0 in d:\\hw16\\ve\\lib\\site-packages (from matplotlib) (9.0.1)\n",
      "Requirement already satisfied: packaging>=20.0 in d:\\hw16\\ve\\lib\\site-packages (from matplotlib) (21.3)\n",
      "Requirement already satisfied: fonttools>=4.22.0 in d:\\hw16\\ve\\lib\\site-packages (from matplotlib) (4.31.1)\n",
      "Requirement already satisfied: kiwisolver>=1.0.1 in d:\\hw16\\ve\\lib\\site-packages (from matplotlib) (1.4.0)\n",
      "Requirement already satisfied: six>=1.5 in d:\\hw16\\ve\\lib\\site-packages (from python-dateutil>=2.7->matplotlib) (1.16.0)\n"
     ]
    },
    {
     "name": "stderr",
     "output_type": "stream",
     "text": [
      "WARNING: You are using pip version 21.2.4; however, version 22.0.4 is available.\n",
      "You should consider upgrading via the 'D:\\HW16\\VE\\Scripts\\python.exe -m pip install --upgrade pip' command.\n"
     ]
    }
   ],
   "source": [
    "!pip install matplotlib"
   ]
  },
  {
   "cell_type": "code",
   "execution_count": 128,
   "id": "68dfdc68",
   "metadata": {},
   "outputs": [],
   "source": [
    "import matplotlib"
   ]
  },
  {
   "cell_type": "code",
   "execution_count": 139,
   "id": "0f92df91",
   "metadata": {},
   "outputs": [
    {
     "data": {
      "text/plain": [
       "<AxesSubplot:>"
      ]
     },
     "execution_count": 139,
     "metadata": {},
     "output_type": "execute_result"
    },
    {
     "data": {
      "image/png": "[encoded data removed]",
      "text/plain": [
       "<Figure size 432x288 with 1 Axes>"
      ]
     },
     "metadata": {
      "needs_background": "light"
     },
     "output_type": "display_data"
    }
   ],
   "source": [
    "df_btc['Open'].hist(bins=23)"
   ]
  },
  {
   "cell_type": "code",
   "execution_count": 140,
   "id": "e1c8a7d9",
   "metadata": {},
   "outputs": [
    {
     "data": {
      "text/plain": [
       "<AxesSubplot:>"
      ]
     },
     "execution_count": 140,
     "metadata": {},
     "output_type": "execute_result"
    },
    {
     "data": {
      "image/png": "[encoded data removed]",
      "text/plain": [
       "<Figure size 432x288 with 1 Axes>"
      ]
     },
     "metadata": {
      "needs_background": "light"
     },
     "output_type": "display_data"
    }
   ],
   "source": [
    "df_eth['Open'].hist(bins=23)"
   ]
  },
  {
   "cell_type": "code",
   "execution_count": 145,
   "id": "720dc05c",
   "metadata": {},
   "outputs": [
    {
     "data": {
      "text/plain": [
       "<AxesSubplot:>"
      ]
     },
     "execution_count": 145,
     "metadata": {},
     "output_type": "execute_result"
    },
    {
     "data": {
      "image/png": "[encoded data removed]",
      "text/plain": [
       "<Figure size 432x288 with 1 Axes>"
      ]
     },
     "metadata": {
      "needs_background": "light"
     },
     "output_type": "display_data"
    }
   ],
   "source": [
    "df_doge['Open'].hist(bins=5)"
   ]
  },
  {
   "cell_type": "code",
   "execution_count": 161,
   "id": "b2201c41",
   "metadata": {},
   "outputs": [
    {
     "data": {
      "text/html": [
       "<div>\n",
       "<style scoped>\n",
       "    .dataframe tbody tr th:only-of-type {\n",
       "        vertical-align: middle;\n",
       "    }\n",
       "\n",
       "    .dataframe tbody tr th {\n",
       "        vertical-align: top;\n",
       "    }\n",
       "\n",
       "    .dataframe thead th {\n",
       "        text-align: right;\n",
       "    }\n",
       "</style>\n",
       "<table border=\"1\" class=\"dataframe\">\n",
       "  <thead>\n",
       "    <tr style=\"text-align: right;\">\n",
       "      <th></th>\n",
       "      <th>Date</th>\n",
       "      <th>Open</th>\n",
       "      <th>High</th>\n",
       "      <th>Low</th>\n",
       "      <th>Close</th>\n",
       "      <th>Adj Close</th>\n",
       "      <th>Volume</th>\n",
       "    </tr>\n",
       "  </thead>\n",
       "  <tbody>\n",
       "    <tr>\n",
       "      <th>0</th>\n",
       "      <td>2021-03-19</td>\n",
       "      <td>57850.441406</td>\n",
       "      <td>59498.375000</td>\n",
       "      <td>56643.703125</td>\n",
       "      <td>58346.652344</td>\n",
       "      <td>58346.652344</td>\n",
       "      <td>49063873786</td>\n",
       "    </tr>\n",
       "    <tr>\n",
       "      <th>1</th>\n",
       "      <td>2021-03-20</td>\n",
       "      <td>58332.261719</td>\n",
       "      <td>60031.285156</td>\n",
       "      <td>58213.296875</td>\n",
       "      <td>58313.644531</td>\n",
       "      <td>58313.644531</td>\n",
       "      <td>50361731222</td>\n",
       "    </tr>\n",
       "    <tr>\n",
       "      <th>2</th>\n",
       "      <td>2021-03-21</td>\n",
       "      <td>58309.914063</td>\n",
       "      <td>58767.898438</td>\n",
       "      <td>56005.617188</td>\n",
       "      <td>57523.421875</td>\n",
       "      <td>57523.421875</td>\n",
       "      <td>51943414539</td>\n",
       "    </tr>\n",
       "    <tr>\n",
       "      <th>3</th>\n",
       "      <td>2021-03-22</td>\n",
       "      <td>57517.890625</td>\n",
       "      <td>58471.480469</td>\n",
       "      <td>54288.156250</td>\n",
       "      <td>54529.144531</td>\n",
       "      <td>54529.144531</td>\n",
       "      <td>56521454974</td>\n",
       "    </tr>\n",
       "    <tr>\n",
       "      <th>4</th>\n",
       "      <td>2021-03-23</td>\n",
       "      <td>54511.660156</td>\n",
       "      <td>55985.441406</td>\n",
       "      <td>53470.695313</td>\n",
       "      <td>54738.945313</td>\n",
       "      <td>54738.945313</td>\n",
       "      <td>56435023914</td>\n",
       "    </tr>\n",
       "    <tr>\n",
       "      <th>...</th>\n",
       "      <td>...</td>\n",
       "      <td>...</td>\n",
       "      <td>...</td>\n",
       "      <td>...</td>\n",
       "      <td>...</td>\n",
       "      <td>...</td>\n",
       "      <td>...</td>\n",
       "    </tr>\n",
       "    <tr>\n",
       "      <th>361</th>\n",
       "      <td>2022-03-15</td>\n",
       "      <td>39664.250000</td>\n",
       "      <td>39794.628906</td>\n",
       "      <td>38310.210938</td>\n",
       "      <td>39338.785156</td>\n",
       "      <td>39338.785156</td>\n",
       "      <td>23934000868</td>\n",
       "    </tr>\n",
       "    <tr>\n",
       "      <th>362</th>\n",
       "      <td>2022-03-16</td>\n",
       "      <td>39335.570313</td>\n",
       "      <td>41465.453125</td>\n",
       "      <td>39022.347656</td>\n",
       "      <td>41143.929688</td>\n",
       "      <td>41143.929688</td>\n",
       "      <td>39616916192</td>\n",
       "    </tr>\n",
       "    <tr>\n",
       "      <th>363</th>\n",
       "      <td>2022-03-17</td>\n",
       "      <td>41140.843750</td>\n",
       "      <td>41287.535156</td>\n",
       "      <td>40662.871094</td>\n",
       "      <td>40951.378906</td>\n",
       "      <td>40951.378906</td>\n",
       "      <td>22009601093</td>\n",
       "    </tr>\n",
       "    <tr>\n",
       "      <th>364</th>\n",
       "      <td>2022-03-18</td>\n",
       "      <td>40944.839844</td>\n",
       "      <td>42195.746094</td>\n",
       "      <td>40302.398438</td>\n",
       "      <td>41801.156250</td>\n",
       "      <td>41801.156250</td>\n",
       "      <td>34421564942</td>\n",
       "    </tr>\n",
       "    <tr>\n",
       "      <th>365</th>\n",
       "      <td>2022-03-19</td>\n",
       "      <td>41789.253906</td>\n",
       "      <td>41943.828125</td>\n",
       "      <td>41602.667969</td>\n",
       "      <td>41753.156250</td>\n",
       "      <td>41753.156250</td>\n",
       "      <td>24994822144</td>\n",
       "    </tr>\n",
       "  </tbody>\n",
       "</table>\n",
       "<p>366 rows × 7 columns</p>\n",
       "</div>"
      ],
      "text/plain": [
       "           Date          Open          High           Low         Close  \\\n",
       "0    2021-03-19  57850.441406  59498.375000  56643.703125  58346.652344   \n",
       "1    2021-03-20  58332.261719  60031.285156  58213.296875  58313.644531   \n",
       "2    2021-03-21  58309.914063  58767.898438  56005.617188  57523.421875   \n",
       "3    2021-03-22  57517.890625  58471.480469  54288.156250  54529.144531   \n",
       "4    2021-03-23  54511.660156  55985.441406  53470.695313  54738.945313   \n",
       "..          ...           ...           ...           ...           ...   \n",
       "361  2022-03-15  39664.250000  39794.628906  38310.210938  39338.785156   \n",
       "362  2022-03-16  39335.570313  41465.453125  39022.347656  41143.929688   \n",
       "363  2022-03-17  41140.843750  41287.535156  40662.871094  40951.378906   \n",
       "364  2022-03-18  40944.839844  42195.746094  40302.398438  41801.156250   \n",
       "365  2022-03-19  41789.253906  41943.828125  41602.667969  41753.156250   \n",
       "\n",
       "        Adj Close       Volume  \n",
       "0    58346.652344  49063873786  \n",
       "1    58313.644531  50361731222  \n",
       "2    57523.421875  51943414539  \n",
       "3    54529.144531  56521454974  \n",
       "4    54738.945313  56435023914  \n",
       "..            ...          ...  \n",
       "361  39338.785156  23934000868  \n",
       "362  41143.929688  39616916192  \n",
       "363  40951.378906  22009601093  \n",
       "364  41801.156250  34421564942  \n",
       "365  41753.156250  24994822144  \n",
       "\n",
       "[366 rows x 7 columns]"
      ]
     },
     "execution_count": 161,
     "metadata": {},
     "output_type": "execute_result"
    }
   ],
   "source": [
    "df_btc"
   ]
  },
  {
   "cell_type": "code",
   "execution_count": 166,
   "id": "d7c87f9f",
   "metadata": {},
   "outputs": [],
   "source": [
    "?map"
   ]
  },
  {
   "cell_type": "code",
   "execution_count": 167,
   "id": "2ed2e3fe",
   "metadata": {},
   "outputs": [],
   "source": [
    "data_b = df_btc.Open.to_list(); data_d = df_doge.Open.to_list(); data_e = df_eth.Open.to_list()"
   ]
  },
  {
   "cell_type": "code",
   "execution_count": 169,
   "id": "7858e363",
   "metadata": {},
   "outputs": [
    {
     "data": {
      "text/plain": [
       "67549.734375"
      ]
     },
     "execution_count": 169,
     "metadata": {},
     "output_type": "execute_result"
    }
   ],
   "source": [
    "max(*data_b, *data_d, *data_e)"
   ]
  },
  {
   "cell_type": "code",
   "execution_count": 171,
   "id": "aefabd08",
   "metadata": {},
   "outputs": [
    {
     "data": {
      "text/plain": [
       "0.051433"
      ]
     },
     "execution_count": 171,
     "metadata": {},
     "output_type": "execute_result"
    }
   ],
   "source": [
    "min(*data_b, *data_d, *data_e)"
   ]
  },
  {
   "cell_type": "code",
   "execution_count": 172,
   "id": "66bdfa9a",
   "metadata": {},
   "outputs": [
    {
     "name": "stdout",
     "output_type": "stream",
     "text": [
      "Object `df.groupby` not found.\n"
     ]
    }
   ],
   "source": [
    "?df.groupby"
   ]
  }
 ],
 "metadata": {
  "kernelspec": {
   "display_name": "Python 3 (ipykernel)",
   "language": "python",
   "name": "python3"
  },
  "language_info": {
   "codemirror_mode": {
    "name": "ipython",
    "version": 3
   },
   "file_extension": ".py",
   "mimetype": "text/x-python",
   "name": "python",
   "nbconvert_exporter": "python",
   "pygments_lexer": "ipython3",
   "version": "3.9.9"
  }
 },
 "nbformat": 4,
 "nbformat_minor": 5
}
